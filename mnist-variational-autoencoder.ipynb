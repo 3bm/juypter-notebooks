{
 "cells": [
  {
   "cell_type": "code",
   "execution_count": 1,
   "metadata": {
    "collapsed": true
   },
   "outputs": [],
   "source": [
    "from read_mnist import read_images, read_labels\n",
    "import tensorflow as tf\n",
    "import numpy as np\n",
    "import matplotlib.pyplot as plt"
   ]
  },
  {
   "cell_type": "code",
   "execution_count": 2,
   "metadata": {
    "collapsed": true
   },
   "outputs": [],
   "source": [
    "def load_dataset(name):\n",
    "    def featurize(image):\n",
    "        return image.astype(float) / 255.0\n",
    "    images = np.array([featurize(image) for image in read_images(name + '-images-idx3-ubyte')])\n",
    "    labels = np.array([label for label in read_labels(name + '-labels-idx1-ubyte')])\n",
    "    return images, labels"
   ]
  },
  {
   "cell_type": "code",
   "execution_count": 3,
   "metadata": {
    "collapsed": false
   },
   "outputs": [],
   "source": [
    "import os\n",
    "test_in, test_out = load_dataset('../data/t10k')\n",
    "train_in, train_out = load_dataset('../data/train')\n",
    "\n",
    "def random_batch(inputs, outputs, count=64):\n",
    "    indices = np.random.randint(0, len(inputs)-1, count)\n",
    "    return inputs.take(indices, axis=0), outputs.take(indices, axis=0)"
   ]
  },
  {
   "cell_type": "code",
   "execution_count": 4,
   "metadata": {
    "collapsed": false
   },
   "outputs": [
    {
     "data": {
      "image/png": "[encoded data removed]",
      "text/plain": [
       "<matplotlib.figure.Figure at 0x7f74f2ec8790>"
      ]
     },
     "metadata": {},
     "output_type": "display_data"
    }
   ],
   "source": [
    "%matplotlib inline\n",
    "def imshow(im):\n",
    "    plt.figure()\n",
    "    plt.imshow(im, cmap='gray', vmin=0, vmax=1)\n",
    "# imshow(test_in[0])\n",
    "# print test_in[0].shape\n",
    "\n",
    "def imshow_multi(images):\n",
    "    f = plt.figure()\n",
    "    for n, im in enumerate(images):\n",
    "        f.add_subplot(1, len(images), n+1)  # this line outputs images on top of each other\n",
    "        # f.add_subplot(1, 2, n)  # this line outputs images side-by-side\n",
    "        fig = plt.imshow(im, cmap='gray', vmin=0, vmax=1)\n",
    "        fig.axes.get_xaxis().set_visible(False) # this is the worst api in the world\n",
    "        fig.axes.get_yaxis().set_visible(False)\n",
    "    plt.show()\n",
    "\n",
    "imshow_multi(test_in[:10])"
   ]
  },
  {
   "cell_type": "code",
   "execution_count": 5,
   "metadata": {
    "collapsed": true
   },
   "outputs": [],
   "source": [
    "dropout_keep_prob = tf.placeholder(tf.float32, name='dropout_keep_prob')        \n",
    "\n",
    "def weight_var(shape, stddev=0.1, weight_decay=0, name=None):\n",
    "    initial = tf.truncated_normal(shape, stddev=stddev)\n",
    "    v = tf.Variable(initial, name=name)\n",
    "    if weight_decay > 0:\n",
    "        l2 = tf.nn.l2_loss(v) * weight_decay\n",
    "        tf.add_to_collection('losses', l2)\n",
    "    return v\n",
    "\n",
    "def leaky_relu(x, leak=0.2, name=\"lrelu\"):\n",
    "    with tf.variable_scope(name):\n",
    "        f1 = 0.5 * (1 + leak)\n",
    "        f2 = 0.5 * (1 - leak)\n",
    "        return f1 * x + f2 * abs(x)\n",
    "\n",
    "def relu(x):\n",
    "    return leaky_relu(x)\n",
    "\n",
    "def create_fc(input, out_size):\n",
    "    # input_dropped = tf.nn.dropout(input, dropout_keep_prob)\n",
    "    in_size = input.get_shape()[-1].value\n",
    "    w = weight_var([in_size, out_size], weight_decay=0.004)\n",
    "    b = weight_var([out_size], weight_decay=0.004)\n",
    "    x = tf.matmul(input, w)\n",
    "    return relu(x + b)\n",
    "\n",
    "def create_conv(input, out_channels, patch_size=5, stride=1, batch_norm=False, dropout=False):\n",
    "    in_channels = input.get_shape()[-1].value\n",
    "    w = weight_var([patch_size, patch_size, in_channels, out_channels])\n",
    "    b = weight_var([out_channels], stddev=0)\n",
    "    conv = tf.nn.conv2d(input, w, strides=[1,stride,stride,1], padding='SAME')\n",
    "    if batch_norm: conv = create_batch_norm(conv)\n",
    "    activation = relu(conv + b)\n",
    "    if dropout: activation = create_dropout(activation)\n",
    "    return activation\n",
    "\n",
    "def create_deconv(input, input_shape, out_channels, patch_size=5, stride=1, use_relu=True):\n",
    "    # for best results, patch_size should be a multiple of stride (or vice-versa?)\n",
    "    input_w, input_h, input_channels = input_shape[-3:]\n",
    "    \n",
    "    w = weight_var([patch_size, patch_size, out_channels, input_channels])\n",
    "    b = weight_var([out_channels], stddev=0)\n",
    "    \n",
    "    batch_size = tf.shape(input)[0]\n",
    "    output_shape = tf.pack([batch_size, input_w*stride, input_h*stride, out_channels])\n",
    "    \n",
    "    deconv = tf.nn.conv2d_transpose(input, w, output_shape, strides=[1,stride,stride,1], padding='SAME')\n",
    "    \n",
    "    activation = relu(deconv + b) if use_relu else deconv + b\n",
    "    return activation\n",
    "\n",
    "def create_max_pool(inputs, ksize=2, stride=2):\n",
    "    return tf.nn.max_pool(inputs, ksize=[1, ksize, ksize, 1], strides=[1, stride, stride, 1], padding='SAME')\n",
    "\n",
    "def create_batch_norm(inputs):\n",
    "    return batch_norm(inputs, is_training=TRAIN)\n",
    "\n",
    "def create_dropout(inputs):\n",
    "    return tf.nn.dropout(inputs, dropout_keep_prob)"
   ]
  },
  {
   "cell_type": "code",
   "execution_count": 6,
   "metadata": {
    "collapsed": true
   },
   "outputs": [],
   "source": [
    "encoded_size = 10\n",
    "# batch_size = 64\n",
    "\n",
    "def encoder(images):\n",
    "    images = tf.reshape(images, [-1, 28, 28, 1])\n",
    "    images = create_conv(images, 32, patch_size=5, stride=2)\n",
    "    images = create_conv(images, 32, patch_size=5, stride=2) # now 7x7x32\n",
    "    images = tf.reshape(images, [-1, 7*7*32])\n",
    "    fc1 = create_fc(images, 1500)\n",
    "    # fc1 = create_dropout(fc1)\n",
    "    z_mean = create_fc(fc1, encoded_size)\n",
    "    z_stddev = create_fc(fc1, encoded_size)\n",
    "    return z_mean, z_stddev\n",
    "\n",
    "def decoder(vectors):\n",
    "    fc1 = create_fc(vectors, 1500)\n",
    "    fc2 = create_fc(fc1, 7*7*32)\n",
    "    images = tf.reshape(fc2, [-1, 7, 7, 32])\n",
    "    \n",
    "    dc1 = create_deconv(images, [7,7,32], 16, patch_size=2, stride=2) # now 14x14x16\n",
    "    dc2 = create_deconv(dc1, [14,14,16], 1, patch_size=2, stride=2, use_relu=False) # now 28x28x1\n",
    "    dc2 = tf.sigmoid(dc2)\n",
    "    return tf.reshape(dc2, [-1, 28, 28])\n",
    "\n",
    "def sample_z(z_mean, z_stddev):\n",
    "    samples = tf.random_normal(tf.shape(z_stddev), 0, 1, dtype=tf.float32)\n",
    "    return z_mean + samples * z_stddev\n"
   ]
  },
  {
   "cell_type": "code",
   "execution_count": 7,
   "metadata": {
    "collapsed": false
   },
   "outputs": [],
   "source": [
    "images = tf.placeholder(tf.float32, [None, 28, 28], name='images')\n",
    "z_mean, z_stddev = encoder(images)\n",
    "z_vals = sample_z(z_mean, z_stddev)\n",
    "\n",
    "z_input = tf.placeholder(tf.float32, [None, encoded_size], name='z_input')\n",
    "use_z_input = tf.placeholder(tf.int32, shape=[], name=\"use_z_input_condition\")\n",
    "decoder_input = tf.cond(use_z_input > 0, lambda: z_input, lambda: z_vals)\n",
    "\n",
    "reconstructions = decoder(decoder_input)\n",
    "use_log_loss = False # this seems to cause nan loss ...?\n",
    "if use_log_loss:\n",
    "    images_flat = tf.reshape(images, [-1, 28*28])\n",
    "    reconstructions_flat = tf.reshape(reconstructions, [-1, 28 * 28])\n",
    "    image_similarity_loss = -tf.reduce_sum(images_flat * tf.log(1e-8 + reconstructions_flat) + (1-images_flat) * tf.log(1e-8 + 1 - reconstructions_flat) ,1)\n",
    "    image_similarity_loss = tf.reduce_mean(image_similarity_loss)\n",
    "else:\n",
    "    image_similarity_loss = tf.reduce_mean(tf.nn.l2_loss(tf.reshape(images, [-1, 28*28]) - tf.reshape(reconstructions, [-1, 28*28])))\n",
    "kl_divergence = tf.reduce_mean(0.5 * tf.reduce_sum(tf.square(z_mean) + tf.square(z_stddev) - tf.log(tf.square(z_stddev)) - 1, 1))\n",
    "loss = image_similarity_loss + kl_divergence\n",
    "\n",
    "random_vecs = tf.random_normal([16, encoded_size], 0, 1, dtype=tf.float32)"
   ]
  },
  {
   "cell_type": "code",
   "execution_count": 8,
   "metadata": {
    "collapsed": false
   },
   "outputs": [],
   "source": [
    "learn_rate = tf.placeholder(tf.float32, name='learning_rate')\n",
    "optimizer = tf.train.AdamOptimizer(learn_rate)\n",
    "global_step = tf.contrib.framework.get_or_create_global_step()\n",
    "train_step = optimizer.minimize(loss, global_step=global_step)"
   ]
  },
  {
   "cell_type": "code",
   "execution_count": 9,
   "metadata": {
    "collapsed": false
   },
   "outputs": [
    {
     "name": "stdout",
     "output_type": "stream",
     "text": [
      "Restored from checkpoint models/mva2/model.ckpt-1500\n"
     ]
    }
   ],
   "source": [
    "save_path = 'models/mva2'\n",
    "\n",
    "session = tf.Session()\n",
    "init_op = tf.group(tf.global_variables_initializer(), tf.local_variables_initializer())\n",
    "session.run(init_op)\n",
    "\n",
    "saver = None\n",
    "if save_path:\n",
    "    if not os.path.exists(save_path):\n",
    "        os.mkdir(save_path)\n",
    "    saver = tf.train.Saver()\n",
    "    ckpt = tf.train.get_checkpoint_state(save_path)\n",
    "    if ckpt and ckpt.model_checkpoint_path:\n",
    "        saver.restore(session, ckpt.model_checkpoint_path)\n",
    "        print 'Restored from checkpoint', ckpt.model_checkpoint_path\n",
    "    else:\n",
    "        print 'Did not restore from checkpoint'\n",
    "else:\n",
    "    print 'Will not save progress'"
   ]
  },
  {
   "cell_type": "code",
   "execution_count": 11,
   "metadata": {
    "collapsed": false
   },
   "outputs": [
    {
     "name": "stdout",
     "output_type": "stream",
     "text": [
      "Step: 100, learn rate: 0.001, loss: 3626.59521484\n",
      "Step: 200, learn rate: 0.001, loss: 2974.48901367\n",
      "Step: 300, learn rate: 0.001, loss: 2626.23779297\n",
      "Step: 400, learn rate: 0.001, loss: 2305.30664062\n",
      "Step: 500, learn rate: 0.001, loss: 2409.29003906\n",
      "Saved\n",
      "Step: 600, learn rate: 0.001, loss: 2419.12280273\n",
      "Step: 700, learn rate: 0.001, loss: 2088.93310547\n",
      "Step: 800, learn rate: 0.001, loss: 2421.25170898\n",
      "Step: 900, learn rate: 0.001, loss: 2088.87207031\n",
      "Step: 1000, learn rate: 0.001, loss: 2287.10229492\n",
      "Saved\n",
      "Step: 1100, learn rate: 0.001, loss: 1976.65808105\n",
      "Step: 1200, learn rate: 0.001, loss: 1949.72607422\n",
      "Step: 1300, learn rate: 0.001, loss: 1749.30273438\n",
      "Step: 1400, learn rate: 0.001, loss: 1770.34277344\n",
      "Step: 1500, learn rate: 0.001, loss: 1817.59130859\n",
      "Saved\n",
      "Step: 1600, learn rate: 0.001, loss: 1675.75683594\n",
      "Step: 1700, learn rate: 0.001, loss: 1800.18798828\n",
      "Step: 1800, learn rate: 0.001, loss: 1890.37573242\n",
      "Step: 1900, learn rate: 0.001, loss: 2101.77905273\n"
     ]
    },
    {
     "ename": "KeyboardInterrupt",
     "evalue": "",
     "output_type": "error",
     "traceback": [
      "\u001b[0;31m---------------------------------------------------------------------------\u001b[0m",
      "\u001b[0;31mKeyboardInterrupt\u001b[0m                         Traceback (most recent call last)",
      "\u001b[0;32m<ipython-input-11-709b7f114507>\u001b[0m in \u001b[0;36m<module>\u001b[0;34m()\u001b[0m\n\u001b[1;32m     13\u001b[0m         \u001b[0mz_input\u001b[0m\u001b[0;34m:\u001b[0m \u001b[0mnp\u001b[0m\u001b[0;34m.\u001b[0m\u001b[0mzeros\u001b[0m\u001b[0;34m(\u001b[0m\u001b[0mshape\u001b[0m\u001b[0;34m=\u001b[0m\u001b[0;34m(\u001b[0m\u001b[0;36m0\u001b[0m\u001b[0;34m,\u001b[0m \u001b[0mencoded_size\u001b[0m\u001b[0;34m)\u001b[0m\u001b[0;34m)\u001b[0m\u001b[0;34m,\u001b[0m\u001b[0;34m\u001b[0m\u001b[0m\n\u001b[1;32m     14\u001b[0m         learn_rate: learn_rate_}\n\u001b[0;32m---> 15\u001b[0;31m     \u001b[0mloss_\u001b[0m\u001b[0;34m,\u001b[0m \u001b[0mglobal_step_\u001b[0m\u001b[0;34m,\u001b[0m \u001b[0m_\u001b[0m \u001b[0;34m=\u001b[0m \u001b[0msession\u001b[0m\u001b[0;34m.\u001b[0m\u001b[0mrun\u001b[0m\u001b[0;34m(\u001b[0m\u001b[0;34m[\u001b[0m\u001b[0mloss\u001b[0m\u001b[0;34m,\u001b[0m \u001b[0mglobal_step\u001b[0m\u001b[0;34m,\u001b[0m \u001b[0mtrain_step\u001b[0m\u001b[0;34m]\u001b[0m\u001b[0;34m,\u001b[0m \u001b[0mfeed_dict\u001b[0m\u001b[0;34m=\u001b[0m\u001b[0mfeed_dict\u001b[0m\u001b[0;34m)\u001b[0m\u001b[0;34m\u001b[0m\u001b[0m\n\u001b[0m\u001b[1;32m     16\u001b[0m \u001b[0;34m\u001b[0m\u001b[0m\n\u001b[1;32m     17\u001b[0m     \u001b[0;32mif\u001b[0m \u001b[0mglobal_step_\u001b[0m \u001b[0;34m%\u001b[0m \u001b[0;36m100\u001b[0m \u001b[0;34m==\u001b[0m \u001b[0;36m0\u001b[0m\u001b[0;34m:\u001b[0m\u001b[0;34m\u001b[0m\u001b[0m\n",
      "\u001b[0;32m/usr/local/lib/python2.7/dist-packages/tensorflow/python/client/session.pyc\u001b[0m in \u001b[0;36mrun\u001b[0;34m(self, fetches, feed_dict, options, run_metadata)\u001b[0m\n\u001b[1;32m    764\u001b[0m     \u001b[0;32mtry\u001b[0m\u001b[0;34m:\u001b[0m\u001b[0;34m\u001b[0m\u001b[0m\n\u001b[1;32m    765\u001b[0m       result = self._run(None, fetches, feed_dict, options_ptr,\n\u001b[0;32m--> 766\u001b[0;31m                          run_metadata_ptr)\n\u001b[0m\u001b[1;32m    767\u001b[0m       \u001b[0;32mif\u001b[0m \u001b[0mrun_metadata\u001b[0m\u001b[0;34m:\u001b[0m\u001b[0;34m\u001b[0m\u001b[0m\n\u001b[1;32m    768\u001b[0m         \u001b[0mproto_data\u001b[0m \u001b[0;34m=\u001b[0m \u001b[0mtf_session\u001b[0m\u001b[0;34m.\u001b[0m\u001b[0mTF_GetBuffer\u001b[0m\u001b[0;34m(\u001b[0m\u001b[0mrun_metadata_ptr\u001b[0m\u001b[0;34m)\u001b[0m\u001b[0;34m\u001b[0m\u001b[0m\n",
      "\u001b[0;32m/usr/local/lib/python2.7/dist-packages/tensorflow/python/client/session.pyc\u001b[0m in \u001b[0;36m_run\u001b[0;34m(self, handle, fetches, feed_dict, options, run_metadata)\u001b[0m\n\u001b[1;32m    962\u001b[0m     \u001b[0;32mif\u001b[0m \u001b[0mfinal_fetches\u001b[0m \u001b[0;32mor\u001b[0m \u001b[0mfinal_targets\u001b[0m\u001b[0;34m:\u001b[0m\u001b[0;34m\u001b[0m\u001b[0m\n\u001b[1;32m    963\u001b[0m       results = self._do_run(handle, final_targets, final_fetches,\n\u001b[0;32m--> 964\u001b[0;31m                              feed_dict_string, options, run_metadata)\n\u001b[0m\u001b[1;32m    965\u001b[0m     \u001b[0;32melse\u001b[0m\u001b[0;34m:\u001b[0m\u001b[0;34m\u001b[0m\u001b[0m\n\u001b[1;32m    966\u001b[0m       \u001b[0mresults\u001b[0m \u001b[0;34m=\u001b[0m \u001b[0;34m[\u001b[0m\u001b[0;34m]\u001b[0m\u001b[0;34m\u001b[0m\u001b[0m\n",
      "\u001b[0;32m/usr/local/lib/python2.7/dist-packages/tensorflow/python/client/session.pyc\u001b[0m in \u001b[0;36m_do_run\u001b[0;34m(self, handle, target_list, fetch_list, feed_dict, options, run_metadata)\u001b[0m\n\u001b[1;32m   1012\u001b[0m     \u001b[0;32mif\u001b[0m \u001b[0mhandle\u001b[0m \u001b[0;32mis\u001b[0m \u001b[0mNone\u001b[0m\u001b[0;34m:\u001b[0m\u001b[0;34m\u001b[0m\u001b[0m\n\u001b[1;32m   1013\u001b[0m       return self._do_call(_run_fn, self._session, feed_dict, fetch_list,\n\u001b[0;32m-> 1014\u001b[0;31m                            target_list, options, run_metadata)\n\u001b[0m\u001b[1;32m   1015\u001b[0m     \u001b[0;32melse\u001b[0m\u001b[0;34m:\u001b[0m\u001b[0;34m\u001b[0m\u001b[0m\n\u001b[1;32m   1016\u001b[0m       return self._do_call(_prun_fn, self._session, handle, feed_dict,\n",
      "\u001b[0;32m/usr/local/lib/python2.7/dist-packages/tensorflow/python/client/session.pyc\u001b[0m in \u001b[0;36m_do_call\u001b[0;34m(self, fn, *args)\u001b[0m\n\u001b[1;32m   1019\u001b[0m   \u001b[0;32mdef\u001b[0m \u001b[0m_do_call\u001b[0m\u001b[0;34m(\u001b[0m\u001b[0mself\u001b[0m\u001b[0;34m,\u001b[0m \u001b[0mfn\u001b[0m\u001b[0;34m,\u001b[0m \u001b[0;34m*\u001b[0m\u001b[0margs\u001b[0m\u001b[0;34m)\u001b[0m\u001b[0;34m:\u001b[0m\u001b[0;34m\u001b[0m\u001b[0m\n\u001b[1;32m   1020\u001b[0m     \u001b[0;32mtry\u001b[0m\u001b[0;34m:\u001b[0m\u001b[0;34m\u001b[0m\u001b[0m\n\u001b[0;32m-> 1021\u001b[0;31m       \u001b[0;32mreturn\u001b[0m \u001b[0mfn\u001b[0m\u001b[0;34m(\u001b[0m\u001b[0;34m*\u001b[0m\u001b[0margs\u001b[0m\u001b[0;34m)\u001b[0m\u001b[0;34m\u001b[0m\u001b[0m\n\u001b[0m\u001b[1;32m   1022\u001b[0m     \u001b[0;32mexcept\u001b[0m \u001b[0merrors\u001b[0m\u001b[0;34m.\u001b[0m\u001b[0mOpError\u001b[0m \u001b[0;32mas\u001b[0m \u001b[0me\u001b[0m\u001b[0;34m:\u001b[0m\u001b[0;34m\u001b[0m\u001b[0m\n\u001b[1;32m   1023\u001b[0m       \u001b[0mmessage\u001b[0m \u001b[0;34m=\u001b[0m \u001b[0mcompat\u001b[0m\u001b[0;34m.\u001b[0m\u001b[0mas_text\u001b[0m\u001b[0;34m(\u001b[0m\u001b[0me\u001b[0m\u001b[0;34m.\u001b[0m\u001b[0mmessage\u001b[0m\u001b[0;34m)\u001b[0m\u001b[0;34m\u001b[0m\u001b[0m\n",
      "\u001b[0;32m/usr/local/lib/python2.7/dist-packages/tensorflow/python/client/session.pyc\u001b[0m in \u001b[0;36m_run_fn\u001b[0;34m(session, feed_dict, fetch_list, target_list, options, run_metadata)\u001b[0m\n\u001b[1;32m   1001\u001b[0m         return tf_session.TF_Run(session, options,\n\u001b[1;32m   1002\u001b[0m                                  \u001b[0mfeed_dict\u001b[0m\u001b[0;34m,\u001b[0m \u001b[0mfetch_list\u001b[0m\u001b[0;34m,\u001b[0m \u001b[0mtarget_list\u001b[0m\u001b[0;34m,\u001b[0m\u001b[0;34m\u001b[0m\u001b[0m\n\u001b[0;32m-> 1003\u001b[0;31m                                  status, run_metadata)\n\u001b[0m\u001b[1;32m   1004\u001b[0m \u001b[0;34m\u001b[0m\u001b[0m\n\u001b[1;32m   1005\u001b[0m     \u001b[0;32mdef\u001b[0m \u001b[0m_prun_fn\u001b[0m\u001b[0;34m(\u001b[0m\u001b[0msession\u001b[0m\u001b[0;34m,\u001b[0m \u001b[0mhandle\u001b[0m\u001b[0;34m,\u001b[0m \u001b[0mfeed_dict\u001b[0m\u001b[0;34m,\u001b[0m \u001b[0mfetch_list\u001b[0m\u001b[0;34m)\u001b[0m\u001b[0;34m:\u001b[0m\u001b[0;34m\u001b[0m\u001b[0m\n",
      "\u001b[0;31mKeyboardInterrupt\u001b[0m: "
     ]
    }
   ],
   "source": [
    "for i in xrange(1000000):\n",
    "    global_step_ = session.run(global_step)\n",
    "    ti, tl = random_batch(train_in, train_out, count=256)\n",
    "    \n",
    "    learn_rate_ = 0.001\n",
    "    if global_step_ > 5000:\n",
    "        learn_rate_ = 0.0001\n",
    "    \n",
    "    feed_dict = {\n",
    "        dropout_keep_prob: 0.5, \n",
    "        images: ti,\n",
    "        use_z_input: 0,\n",
    "        z_input: np.zeros(shape=(0, encoded_size)),\n",
    "        learn_rate: learn_rate_}\n",
    "    loss_, global_step_, _ = session.run([loss, global_step, train_step], feed_dict=feed_dict)\n",
    "    \n",
    "    if global_step_ % 100 == 0:\n",
    "        print 'Step: {}, learn rate: {}, loss: {}'.format(global_step_, learn_rate_, loss_)\n",
    "        if saver and global_step_ % 500 == 0:\n",
    "            saver.save(session, save_path + '/model.ckpt', global_step=global_step_)\n",
    "            print 'Saved'\n"
   ]
  },
  {
   "cell_type": "code",
   "execution_count": 12,
   "metadata": {
    "collapsed": false
   },
   "outputs": [
    {
     "data": {
      "image/png": "[encoded data removed]",
      "text/plain": [
       "<matplotlib.figure.Figure at 0x7fab1182b350>"
      ]
     },
     "metadata": {},
     "output_type": "display_data"
    },
    {
     "data": {
      "image/png": "[encoded data removed]",
      "text/plain": [
       "<matplotlib.figure.Figure at 0x7fab1012b7d0>"
      ]
     },
     "metadata": {},
     "output_type": "display_data"
    }
   ],
   "source": [
    "%matplotlib inline\n",
    "\n",
    "def reconstruction_demo():\n",
    "    ti, tl = random_batch(train_in, train_out, count=10)\n",
    "    # imshow(ti[0])\n",
    "    feed_dict = {\n",
    "        dropout_keep_prob: 1,\n",
    "        use_z_input: 0,\n",
    "        z_input: np.zeros((0, encoded_size)),\n",
    "        images: ti\n",
    "    }\n",
    "    reconstructed = session.run(reconstructions, feed_dict=feed_dict)\n",
    "    imshow_multi(ti)\n",
    "    imshow_multi(reconstructed)\n",
    "\n",
    "reconstruction_demo()"
   ]
  },
  {
   "cell_type": "code",
   "execution_count": 21,
   "metadata": {
    "collapsed": false
   },
   "outputs": [
    {
     "data": {
      "image/png": "[encoded data removed]",
      "text/plain": [
       "<matplotlib.figure.Figure at 0x7f369f2c8cd0>"
      ]
     },
     "metadata": {},
     "output_type": "display_data"
    }
   ],
   "source": [
    "%matplotlib inline\n",
    "\n",
    "def generation_demo():\n",
    "    rand = np.random.normal(size=(16, encoded_size))\n",
    "    feed_dict = {\n",
    "        use_z_input: 1,\n",
    "        z_input: rand,\n",
    "        images: np.zeros((0, 28, 28))\n",
    "    }\n",
    "    images_ = session.run(reconstructions, feed_dict=feed_dict)\n",
    "    imshow_multi(images_[:10])\n",
    "\n",
    "generation_demo()"
   ]
  },
  {
   "cell_type": "code",
   "execution_count": 11,
   "metadata": {
    "collapsed": false
   },
   "outputs": [
    {
     "name": "stdout",
     "output_type": "stream",
     "text": [
      "[ 5.50972652  0.46766824  2.48728442  1.71777141  0.44927651  3.16284323\n",
      "  3.76665998 -2.93620014 -1.27996302  1.05184591]\n",
      "[ 4.16117859  2.51626611  4.85881281  2.96656823 -0.03133375  0.79681724\n",
      "  3.29458308  1.32304287  4.39395094  5.74068451]\n",
      "[ 2.07452369  0.549528    4.79504347  7.09625387  2.87136245  3.77796531\n",
      "  5.73144388 -0.49003765  3.79606915 -0.75874317]\n",
      "[ 9.74973297  1.23781765  2.74592471  7.47834969  4.77851725  3.36044383\n",
      "  1.10687459 -2.58537769 -0.53342634  5.57272959]\n",
      "[-0.52251011  2.63840866  7.58703995  3.07208514  5.62446499 -0.28510398\n",
      "  6.35791731 -1.08272314  0.04777831  0.88749641]\n",
      "[ 0.86131221  3.78881216  0.24704948 -0.06277622  0.11256009  0.24238397\n",
      " -0.08645609  0.54086167  6.01901293  1.69932652]\n",
      "[ 3.4191215   3.39315414  3.5098989   4.23779202  4.20887232  5.07336426\n",
      "  0.07902446 -2.34544611  4.84207439  5.17160988]\n",
      "[ 1.3043797   2.66852355  0.79584235  5.3798008   3.23818445  0.36497191\n",
      "  4.7644043  -0.50749695  5.21184111  1.37258863]\n",
      "[ 9.90791416 -0.40507725  2.39001346  3.02796149  2.04013062  0.84306675\n",
      "  2.61146498  9.17674828  1.79642236  0.90905923]\n",
      "[ 4.58278084  2.60902834  5.01338387  3.10160184  1.82819808  0.65865284\n",
      "  4.24889517  2.16205263  2.678334    7.7526679 ]\n",
      "[ 7.66235781  7.84045458  3.67812395  0.25048068  3.04333854  3.45766401\n",
      "  1.04885769 -2.05838346  1.45828569  4.27376842]\n",
      "[-0.94764042 -0.15719603  1.15040064  7.07688761  1.16448414  2.30655313\n",
      "  9.20170689 -1.12042546  3.08666444  0.36673397]\n",
      "[ 4.28190708  2.8435092   4.575109    2.11466742  2.84034777 -0.11681342\n",
      "  8.20570278 -4.47571802  1.83373988  0.26384899]\n",
      "[ 0.85904747  2.79819918  2.5873785   8.34438992 -0.01080403  3.61529827\n",
      "  0.40323979 -5.14826918 -0.7746976  -0.2329625 ]\n",
      "[ 2.48578191  0.68330026  3.00113773  3.83534312  5.16338825  1.29386091\n",
      "  6.26083994 -8.4579792  -1.87400091  4.34584665]\n",
      "[-0.2304903   0.70833886  2.66412234  0.89207119  3.0407958   2.45954609\n",
      "  5.50883532 -0.53016502  3.13062477  3.83981729]\n"
     ]
    }
   ],
   "source": [
    "ti, tl = random_batch(train_in, train_out, count=16)\n",
    "for vec in session.run(z_vals, feed_dict={images: ti}):\n",
    "    print vec"
   ]
  },
  {
   "cell_type": "code",
   "execution_count": 15,
   "metadata": {
    "collapsed": false
   },
   "outputs": [
    {
     "name": "stdout",
     "output_type": "stream",
     "text": [
      "[[ 1.21247959  1.53361011  1.61471784  3.96641254  2.69023848  4.05767488\n",
      "   5.34224939 -7.95813751 -0.0837506   5.23074532]\n",
      " [ 1.49431205  0.98597068  1.86497402  4.47098923  2.58632708  3.64798379\n",
      "   5.1012249  -6.89040804  0.6463843   4.6715498 ]\n",
      " [ 1.77614427  0.43833125  2.11523008  4.97556543  2.48241544  3.23829246\n",
      "   4.86020088 -5.82267809  1.3765192   4.11235428]\n",
      " [ 2.05797672 -0.10930818  2.36548615  5.48014164  2.37850404  2.82860136\n",
      "   4.61917639 -4.75494862  2.10665393  3.55315876]\n",
      " [ 2.33980894 -0.65694773  2.61574221  5.98471832  2.2745924   2.41891003\n",
      "   4.37815189 -3.68721867  2.83678889  2.99396324]\n",
      " [ 2.6216414  -1.2045871   2.86599851  6.48929453  2.170681    2.00921893\n",
      "   4.1371274  -2.61948895  3.5669241   2.43476748]\n",
      " [ 2.90347362 -1.75222659  3.11625433  6.99387074  2.0667696   1.5995276\n",
      "   3.89610291 -1.55175912  4.29705858  1.87557185]\n",
      " [ 3.18530607 -2.29986596  3.36651039  7.49844694  1.96285796  1.18983638\n",
      "   3.65507841 -0.48402938  5.02719355  1.31637621]]\n"
     ]
    },
    {
     "data": {
      "image/png": "[encoded data removed]",
      "text/plain": [
       "<matplotlib.figure.Figure at 0x7f74b16cfc10>"
      ]
     },
     "metadata": {},
     "output_type": "display_data"
    }
   ],
   "source": [
    "def find_digit(n):\n",
    "    for im, label in zip(test_in, test_out):\n",
    "        if label == n:\n",
    "            return im\n",
    "\n",
    "def blend_demo(digit1, digit2):\n",
    "    im1 = find_digit(digit1)\n",
    "    im2 = find_digit(digit2)\n",
    "    feed_dict = {\n",
    "        use_z_input: 0,\n",
    "        z_input: np.zeros((0, encoded_size)),\n",
    "        images: np.array([im1, im2])\n",
    "    }\n",
    "    v1, v2 = session.run(z_vals, feed_dict=feed_dict)\n",
    "    steps = 7\n",
    "    def blend(p):\n",
    "        return v1 * (1-p) + v2 * p\n",
    "    feed_dict = {\n",
    "        use_z_input: 1,\n",
    "        z_input: np.array([blend(s * 1.0 / steps) for s in range(steps+1)]),\n",
    "        images: np.zeros((0, 28, 28))\n",
    "    }\n",
    "    print np.array([blend(s * 1.0 / steps) for s in range(steps+1)])\n",
    "    # print 'ok'\n",
    "    reconstructed = session.run(reconstructions, feed_dict=feed_dict)\n",
    "    imshow_multi(reconstructed)\n",
    "\n",
    "blend_demo(0, 2)"
   ]
  },
  {
   "cell_type": "code",
   "execution_count": null,
   "metadata": {
    "collapsed": true
   },
   "outputs": [],
   "source": []
  }
 ],
 "metadata": {
  "kernelspec": {
   "display_name": "Python 2",
   "language": "python",
   "name": "python2"
  },
  "language_info": {
   "codemirror_mode": {
    "name": "ipython",
    "version": 2
   },
   "file_extension": ".py",
   "mimetype": "text/x-python",
   "name": "python",
   "nbconvert_exporter": "python",
   "pygments_lexer": "ipython2",
   "version": "2.7.12+"
  }
 },
 "nbformat": 4,
 "nbformat_minor": 2
}
